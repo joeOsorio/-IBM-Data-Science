{
 "cells": [
  {
   "cell_type": "markdown",
   "id": "a5213c97-f176-45ae-a42a-4f109d31aaad",
   "metadata": {},
   "source": [
    "# Data Science Tools and Ecosystem"
   ]
  },
  {
   "cell_type": "markdown",
   "id": "1452ec07-1120-4e06-9f71-33d11908531f",
   "metadata": {},
   "source": [
    "En este cuaderno, se resumen las herramientas y ecosistemas de ciencia de datos."
   ]
  },
  {
   "cell_type": "markdown",
   "id": "5b67cfca-81ea-4c7d-967f-7e699ca8d71e",
   "metadata": {},
   "source": [
    "Algunas de las bibliotecas comúnmente utilizadas por los científicos de datos incluyen:\n",
    "* Pandas\n",
    "* NumPy\n",
    "* Matplotlib"
   ]
  },
  {
   "cell_type": "markdown",
   "id": "dd55a6bc-feea-42e4-b6a3-6e39b9d97826",
   "metadata": {},
   "source": [
    "Herramientas de Ciencia de Datos.\n",
    "| Data Science Tools |\n",
    "|--------------------|\n",
    "| Jupyter Notebook   |\n",
    "| RStudio            |\n",
    "| Apache Zeppelin    |\n"
   ]
  },
  {
   "cell_type": "markdown",
   "id": "31d84293-ddcc-4ef6-963f-b0497275f56a",
   "metadata": {},
   "source": [
    "### A continuación se presentan algunos ejemplos de evaluación de expresiones aritméticas en Python.\n"
   ]
  },
  {
   "cell_type": "markdown",
   "id": "dcf76f52-3105-4528-a04e-db5446b53057",
   "metadata": {},
   "source": [
    "Esta es una expresión aritmética simple para multiplicar y luego sumar enteros."
   ]
  },
  {
   "cell_type": "code",
   "execution_count": 18,
   "id": "a4b96849-ef69-45eb-9363-9dfdcac79b0c",
   "metadata": {},
   "outputs": [
    {
     "data": {
      "text/plain": [
       "17.0"
      ]
     },
     "execution_count": 18,
     "metadata": {},
     "output_type": "execute_result"
    }
   ],
   "source": [
    "(3*4)+5."
   ]
  },
  {
   "cell_type": "markdown",
   "id": "44b7084b-36e8-4fc6-ab7d-5fbd3a61cdbc",
   "metadata": {},
   "source": [
    "Esto convertirá 200 minutos a horas dividiendo por 60."
   ]
  },
  {
   "cell_type": "code",
   "execution_count": 27,
   "id": "c7d274a1-2082-485e-b2b7-9b0d48bd3bc4",
   "metadata": {},
   "outputs": [
    {
     "data": {
      "text/plain": [
       "3.3333333333333335"
      ]
     },
     "execution_count": 27,
     "metadata": {},
     "output_type": "execute_result"
    }
   ],
   "source": [
    "200 / 60"
   ]
  },
  {
   "cell_type": "markdown",
   "id": "1d9ad437-8a73-45cd-9d5c-48599357fd32",
   "metadata": {},
   "source": [
    "**Objetivos:**\n",
    "- Listar lenguajes populares para Ciencia de Datos\n",
    "- Identificar bibliotecas comúnmente usadas en Ciencia de Datos\n",
    "- Herramientas clave utilizadas en Ciencia de Datos\n",
    "- Proporcionar ejemplos de expresiones aritméticas\n"
   ]
  },
  {
   "cell_type": "markdown",
   "id": "3672e5bd-40f0-462a-b0c3-ebfc56b30c20",
   "metadata": {},
   "source": [
    "## Autor\n",
    "Joshua Osorio."
   ]
  }
 ],
 "metadata": {
  "kernelspec": {
   "display_name": "Python 3 (ipykernel)",
   "language": "python",
   "name": "python3"
  },
  "language_info": {
   "codemirror_mode": {
    "name": "ipython",
    "version": 3
   },
   "file_extension": ".py",
   "mimetype": "text/x-python",
   "name": "python",
   "nbconvert_exporter": "python",
   "pygments_lexer": "ipython3",
   "version": "3.12.7"
  }
 },
 "nbformat": 4,
 "nbformat_minor": 5
}
